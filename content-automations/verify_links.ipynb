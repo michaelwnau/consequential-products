{
  "nbformat": 4,
  "nbformat_minor": 0,
  "metadata": {
    "colab": {
      "private_outputs": true,
      "provenance": [],
      "mount_file_id": "1SeFJ0_mwpqYyBIgu_tz2Zyo3LDEyYX3Z",
      "authorship_tag": "ABX9TyNdknec2cxEsZTYInwkggtt",
      "include_colab_link": true
    },
    "kernelspec": {
      "name": "python3",
      "display_name": "Python 3"
    },
    "language_info": {
      "name": "python"
    }
  },
  "cells": [
    {
      "cell_type": "markdown",
      "metadata": {
        "id": "view-in-github",
        "colab_type": "text"
      },
      "source": [
        "<a href=\"https://colab.research.google.com/github/michaelwnau/consequential-products/blob/main/verify_links.ipynb\" target=\"_parent\"><img src=\"https://colab.research.google.com/assets/colab-badge.svg\" alt=\"Open In Colab\"/></a>"
      ]
    },
    {
      "cell_type": "code",
      "source": [
        "!pip install selenium\n",
        "!apt-get update\n",
        "!apt install chromium-chromedriver\n",
        "!cp /usr/lib/chromium-browser/chromedriver /usr/bin"
      ],
      "metadata": {
        "id": "mvrTdM9VRRPh"
      },
      "execution_count": null,
      "outputs": []
    },
    {
      "cell_type": "code",
      "source": [
        "from google.colab import drive\n",
        "drive.mount('/content/drive/')"
      ],
      "metadata": {
        "id": "rgXzsVL6Jbue"
      },
      "execution_count": null,
      "outputs": []
    },
    {
      "source": [
        "import pandas as pd\n",
        "import pandas as pd\n",
        "import requests\n",
        "from bs4 import BeautifulSoup\n",
        "from selenium import webdriver\n",
        "from selenium.webdriver.chrome.options import Options\n",
        "import os\n",
        "\n",
        "df = pd.read_csv('/content/drive/MyDrive/directus-automations/directus-links-audit.csv')"
      ],
      "cell_type": "code",
      "metadata": {
        "id": "bSxAMlb5KaIO"
      },
      "execution_count": null,
      "outputs": []
    },
    {
      "cell_type": "code",
      "source": [
        "# Function to set up a Selenium WebDriver\n",
        "def setup_driver():\n",
        "    chrome_options = Options()\n",
        "    chrome_options.add_argument(\"--headless\")\n",
        "    chrome_options.add_argument(\"--disable-gpu\")\n",
        "    chrome_options.add_argument(\"--no-sandbox\")\n",
        "    chrome_options.add_argument(\"--disable-dev-shm-usage\")\n",
        "    driver = webdriver.Chrome(options=chrome_options)\n",
        "    return driver"
      ],
      "metadata": {
        "id": "RN5LbLNFQ4ox"
      },
      "execution_count": null,
      "outputs": []
    },
    {
      "cell_type": "code",
      "source": [
        "# Function to verify links and check for authentication requirements\n",
        "def verify_links_with_auth(df, column_name, driver):\n",
        "    \"\"\"\n",
        "    Verifies links in a specified column of a pandas DataFrame, checks if authentication is required,\n",
        "    and captures thumbnails for each link.\n",
        "\n",
        "    Args:\n",
        "        df (pd.DataFrame): The DataFrame containing the links.\n",
        "        column_name (str): The name of the column containing the links.\n",
        "        driver: Selenium WebDriver instance.\n",
        "\n",
        "    Returns:\n",
        "        pd.DataFrame: The DataFrame with new columns 'Status' and 'Authentication Required'.\n",
        "    \"\"\"\n",
        "\n",
        "    # Initialize new columns\n",
        "    df['Status'] = ''\n",
        "    df['Authentication Required'] = ''\n",
        "    thumbnail_dir = '/content/drive/MyDrive/directus-automations/thumbnails'\n",
        "    os.makedirs(thumbnail_dir, exist_ok=True)\n",
        "\n",
        "    thumbnails = []\n",
        "\n",
        "    for index, row in df.iterrows():\n",
        "        url = row[column_name]\n",
        "        try:\n",
        "            # Send a GET request to the URL\n",
        "            response = requests.get(url, timeout=10)\n",
        "\n",
        "            if response.status_code == 200:\n",
        "                df.at[index, 'Status'] = 'OK'\n",
        "                # Parse HTML with BeautifulSoup\n",
        "                soup = BeautifulSoup(response.content, 'html.parser')\n",
        "                # Check for authentication-related elements\n",
        "                if soup.find('form', {'name': 'login'}) or 'login' in url.lower():\n",
        "                    df.at[index, 'Authentication Required'] = 'Y'\n",
        "                else:\n",
        "                    df.at[index, 'Authentication Required'] = 'N'\n",
        "\n",
        "                # Capture a thumbnail using Selenium\n",
        "                driver.get(url)\n",
        "                row_number = index + 1  # Adjust row number to start from 1\n",
        "                thumbnail_path = os.path.join(thumbnail_dir, f\"thumbnail_{row_number}.png\")\n",
        "                driver.save_screenshot(thumbnail_path)\n",
        "                thumbnails.append(thumbnail_path)\n",
        "            else:\n",
        "                df.at[index, 'Status'] = f'Error: {response.status_code}'\n",
        "                df.at[index, 'Authentication Required'] = 'N'\n",
        "                thumbnails.append(None)\n",
        "        except Exception as e:\n",
        "            df.at[index, 'Status'] = 'Error: Connection failed'\n",
        "            df.at[index, 'Authentication Required'] = 'N'\n",
        "            thumbnails.append(None)\n",
        "\n",
        "    df['Thumbnail Path'] = thumbnails\n",
        "    return df\n",
        "\n",
        "# Main execution\n",
        "if __name__ == '__main__':\n",
        "    # File path to the CSV file in Google Drive\n",
        "    file_path = '/content/drive/MyDrive/directus-automations/directus-links-audit.csv'\n",
        "\n",
        "    # Load the CSV file\n",
        "    df = pd.read_csv(file_path)\n",
        "\n",
        "    # Print column names to verify the correct column is selected\n",
        "    print(\"Column names in the CSV file:\", df.columns)\n",
        "\n",
        "    # Set up Selenium WebDriver\n",
        "    driver = setup_driver()\n",
        "\n",
        "    # Verify the links in the 'url' column and capture thumbnails\n",
        "    df = verify_links_with_auth(df, 'url', driver)\n",
        "\n",
        "    # Save the updated DataFrame back to Google Drive\n",
        "    output_path = '/content/drive/MyDrive/Directus_Links_Audit_Results.xlsx'\n",
        "    with pd.ExcelWriter(output_path) as writer:\n",
        "        # Write main DataFrame to the first sheet\n",
        "        df.to_excel(writer, sheet_name='Verification Results', index=False)\n",
        "\n",
        "        # Add thumbnail paths to a new sheet\n",
        "        thumbnails_df = pd.DataFrame({'Row Number': df.index + 1, 'URL': df['url'], 'Thumbnail Path': df['Thumbnail Path']})\n",
        "        thumbnails_df.to_excel(writer, sheet_name='Thumbnails', index=False)\n",
        "\n",
        "    # Close the WebDriver\n",
        "    driver.quit()\n",
        "\n",
        "    # Print confirmation and display a sample of the updated DataFrame\n",
        "    print(\"Verification complete. Updated spreadsheet saved to Google Drive.\")\n",
        "    print(df.head())"
      ],
      "metadata": {
        "id": "I76X_E_pLme_"
      },
      "execution_count": null,
      "outputs": []
    }
  ]
}