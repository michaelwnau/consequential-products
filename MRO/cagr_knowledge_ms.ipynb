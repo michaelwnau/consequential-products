{
  "nbformat": 4,
  "nbformat_minor": 0,
  "metadata": {
    "colab": {
      "private_outputs": true,
      "provenance": [],
      "authorship_tag": "ABX9TyOknftYEXf0X9K9kKtNJmIH",
      "include_colab_link": true
    },
    "kernelspec": {
      "name": "python3",
      "display_name": "Python 3"
    },
    "language_info": {
      "name": "python"
    }
  },
  "cells": [
    {
      "cell_type": "markdown",
      "metadata": {
        "id": "view-in-github",
        "colab_type": "text"
      },
      "source": [
        "<a href=\"https://colab.research.google.com/github/michaelwnau/consequential-products/blob/main/cagr_knowledge_ms.ipynb\" target=\"_parent\"><img src=\"https://colab.research.google.com/assets/colab-badge.svg\" alt=\"Open In Colab\"/></a>"
      ]
    },
    {
      "cell_type": "markdown",
      "source": [],
      "metadata": {
        "id": "tawdAzBQ419P"
      }
    },
    {
      "cell_type": "code",
      "execution_count": null,
      "metadata": {
        "id": "mS7dFI9Sq4sS"
      },
      "outputs": [],
      "source": [
        "import numpy as np\n",
        "import matplotlib.pyplot as plt\n",
        "\n",
        "# Data\n",
        "years = np.array([2023, 2024, 2025, 2026, 2027, 2028, 2029, 2030])\n",
        "market_size = np.array([12.7, None, None, None, None, None, None, 38.7])  # Market size in billion USD\n",
        "\n",
        "# Calculating CAGR\n",
        "initial_value = market_size[0]\n",
        "final_value = market_size[-1]\n",
        "years_between = years[-1] - years[0]\n",
        "cagr = (final_value / initial_value) ** (1 / years_between) - 1\n",
        "\n",
        "# Filling in the market size for the other years\n",
        "for i in range(1, len(market_size) - 1):\n",
        "    market_size[i] = initial_value * ((1 + cagr) ** i)\n",
        "\n",
        "# Plotting\n",
        "plt.figure(figsize=(10, 6))\n",
        "plt.bar(years, market_size, color='royalblue')\n",
        "plt.plot(years, market_size, color='grey', linestyle='--', marker='o')\n",
        "\n",
        "# Adding labels\n",
        "plt.xlabel('Year')\n",
        "plt.ylabel('Market Size (in Billion USD)')\n",
        "plt.title('Global Knowledge Management Software Market (2023-2030)')\n",
        "plt.text(2023, 12.7, f'${market_size[0]:.1f} Billion', va='bottom', ha='center', fontsize=9)\n",
        "plt.text(2030, 38.7, f'${market_size[-1]:.1f} Billion', va='bottom', ha='center', fontsize=9)\n",
        "\n",
        "# Adding CAGR text\n",
        "plt.text(2026, 25, f'CAGR: {cagr * 100:.1f}%', fontsize=12, color='darkred')\n",
        "\n",
        "# Showing the plot\n",
        "plt.grid(axis='y', linestyle='--', alpha=0.7)\n",
        "plt.show()"
      ]
    }
  ]
}