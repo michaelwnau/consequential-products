{
  "nbformat": 4,
  "nbformat_minor": 0,
  "metadata": {
    "colab": {
      "private_outputs": true,
      "provenance": [],
      "mount_file_id": "1IIBMBDfHqy0Ey64k29bALy6BlDiUpaB2",
      "authorship_tag": "ABX9TyP+2UzgD35XpCAnChY6+ujw",
      "include_colab_link": true
    },
    "kernelspec": {
      "name": "python3",
      "display_name": "Python 3"
    },
    "language_info": {
      "name": "python"
    }
  },
  "cells": [
    {
      "cell_type": "markdown",
      "metadata": {
        "id": "view-in-github",
        "colab_type": "text"
      },
      "source": [
        "<a href=\"https://colab.research.google.com/github/michaelwnau/consequential-products/blob/main/mindflayer_v1.ipynb\" target=\"_parent\"><img src=\"https://colab.research.google.com/assets/colab-badge.svg\" alt=\"Open In Colab\"/></a>"
      ]
    },
    {
      "cell_type": "markdown",
      "source": [
        "#**Mindflayer: Analyzing Scientific Articles with OCR and Multimodal Models**\n",
        "\n",
        "###This Colab Notebook demonstrates how to:\n",
        "\n",
        "- Ingest and extract text from a PDF scientific article.\n",
        "- Extract images, figures, and tables from the PDF.\n",
        "- Apply OCR to images to extract embedded text.\n",
        "- Use multimodal models to generate captions for images.\n",
        "- Display and interpret the extracted content."
      ],
      "metadata": {
        "id": "8qQ02CjmWsS4"
      }
    },
    {
      "cell_type": "markdown",
      "source": [
        "## Problem Statement\n",
        "\n",
        "\n",
        "> \"OBJECTIVE:\n",
        ">The Defense Threat Reduction Agency (DTRA) seeks to develop AI/ML models and pipelines capable of identifying, extracting, and processing elements from scanned technical and scientific documents. This project aims to automate the extraction of tables, plots, photos, and other elements embedded within structured and unstructured text, ensuring high fidelity and accuracy in a production environment.\"\n",
        "\n",
        "Source: \"DTRA243-003 AI/ML Data Extraction from Scientific Documents.\" See the [full problem statement](https://www.dodsbirsttr.mil/submissions/api/public/download/solicitationDocuments?solicitation=DOD_SBIR_2024_P1_C3&documentType=INSTRUCTIONS&component=DTRA) here.\n",
        "\n",
        "\n"
      ],
      "metadata": {
        "id": "MijXQgrT_dP2"
      }
    },
    {
      "cell_type": "markdown",
      "source": [
        "##**Table of Contents**\n",
        "1. Setup\n",
        "2. Ingest the article\n",
        "3. Extract the images from the PDF\n",
        "4. Apply OCR to Extract Text from Images\n",
        "5. Interpret Images Using Multimodal Models\n",
        "6. Extract and Interpret Tables\n",
        "7. Display Results\n",
        "8. Advanced Interpretation (Optional)"
      ],
      "metadata": {
        "id": "mzx2p8RTX0s3"
      }
    },
    {
      "cell_type": "markdown",
      "source": [
        "##**1. Setup**\n",
        "First, let's install :the necessary libraries by running the cell."
      ],
      "metadata": {
        "id": "GHJXMeccZYvj"
      }
    },
    {
      "cell_type": "code",
      "execution_count": null,
      "metadata": {
        "collapsed": true,
        "id": "fjDWl44zWqQ1"
      },
      "outputs": [],
      "source": [
        "# Install libraries\n",
        "!pip install PyPDF2\n",
        "!pip install PyMuPDF\n",
        "!pip install pytesseract\n",
        "!pip install Pillow\n",
        "!pip install transformers\n",
        "!pip install torch"
      ]
    },
    {
      "cell_type": "code",
      "source": [
        "# Import the libraries\n",
        "import PyPDF2\n",
        "import fitz  # PyMuPDF\n",
        "import pytesseract\n",
        "from PIL import Image\n",
        "from transformers import BlipProcessor, BlipForConditionalGeneration\n",
        "import torch\n",
        "import os\n",
        "from IPython.display import Image as IPythonImage, display\n",
        "import pandas as pd\n",
        "import io"
      ],
      "metadata": {
        "id": "p1Qa5pCDZUzs"
      },
      "execution_count": null,
      "outputs": []
    },
    {
      "cell_type": "code",
      "source": [],
      "metadata": {
        "id": "aurU_gCk_BeJ"
      },
      "execution_count": null,
      "outputs": []
    }
  ]
}