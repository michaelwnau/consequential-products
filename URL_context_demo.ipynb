{
  "nbformat": 4,
  "nbformat_minor": 0,
  "metadata": {
    "colab": {
      "private_outputs": true,
      "provenance": [],
      "authorship_tag": "ABX9TyPaoFPY02VeYSeYvdTeUiMD",
      "include_colab_link": true
    },
    "kernelspec": {
      "name": "python3",
      "display_name": "Python 3"
    },
    "language_info": {
      "name": "python"
    }
  },
  "cells": [
    {
      "cell_type": "markdown",
      "metadata": {
        "id": "view-in-github",
        "colab_type": "text"
      },
      "source": [
        "<a href=\"https://colab.research.google.com/github/michaelwnau/consequential-products/blob/main/URL_context_demo.ipynb\" target=\"_parent\"><img src=\"https://colab.research.google.com/assets/colab-badge.svg\" alt=\"Open In Colab\"/></a>"
      ]
    },
    {
      "cell_type": "markdown",
      "source": [
        "# Google Gemini API URL Context Tutorial\n",
        "\n",
        "This Colab notebook demonstrates various use cases for the URL Context tool in Google's Gemini API.\n",
        "The URL Context tool allows you to provide web URLs as context to AI models, enabling\n",
        "analysis of web content without manual copying and pasting.\n",
        "\n",
        "## Prerequisites\n",
        "- Google AI API key\n",
        "    - Generate a fresh API key in [Google AI Studio](https://aistudio.google.com/apikey)\n",
        "    - Store the key as `GOOGLE_API_KEY` in the Colab Secrets manager 🔑\n",
        "- Access to Gemini 2.5 models\n",
        "- Python environment with required packages"
      ],
      "metadata": {
        "id": "vJrquZFUPSpY"
      }
    },
    {
      "cell_type": "markdown",
      "source": [
        "\n",
        "### Setup and Installation\n"
      ],
      "metadata": {
        "id": "K2TvTCO-PvOX"
      }
    },
    {
      "cell_type": "code",
      "execution_count": null,
      "metadata": {
        "id": "hXLc4BeBPO7O"
      },
      "outputs": [],
      "source": [
        "import os\n",
        "from google import genai\n",
        "from google.genai.types import Tool, GenerateContentConfig, GoogleSearch, UrlContext\n",
        "from dotenv import load_dotenv\n",
        "import json\n",
        "from typing import List, Dict, Any"
      ]
    },
    {
      "cell_type": "code",
      "source": [
        "# Load environment variables\n",
        "load_dotenv()\n",
        "\n",
        "# Initialize the client\n",
        "GOOGLE_API_KEY = userdata.get('GOOGLE_API_KEY')\n",
        "# genai.configure(api_key=GOOGLE_API_KEY) # Remove this line\n",
        "client = genai.Client(api_key=GOOGLE_API_KEY) # Pass the API key here\n",
        "model_id = \"gemini-2.5-flash\""
      ],
      "metadata": {
        "id": "selX4TQxQjaz"
      },
      "execution_count": null,
      "outputs": []
    },
    {
      "cell_type": "markdown",
      "source": [
        "## Basic URL Context Usage\n",
        "Let's start with a simple example comparing two recipes from different websites."
      ],
      "metadata": {
        "id": "fdGeMBFERF6T"
      }
    },
    {
      "cell_type": "code",
      "source": [
        "def analyze_urls_basic(urls: List[str], prompt: str) -> Dict[str, Any]:\n",
        "    \"\"\"\n",
        "    Basic function to analyze content from URLs using Gemini API\n",
        "\n",
        "    Args:\n",
        "        urls: List of URLs to analyze\n",
        "        prompt: Analysis prompt that references the URLs\n",
        "\n",
        "    Returns:\n",
        "        Dictionary containing response text and metadata\n",
        "    \"\"\"\n",
        "    tools = [{\"url_context\": {}}]\n",
        "\n",
        "    # Create prompt with URLs\n",
        "    full_prompt = f\"{prompt}\\n\\nURLs to analyze: {', '.join(urls)}\"\n",
        "\n",
        "    response = client.models.generate_content(\n",
        "        model=model_id,\n",
        "        contents=full_prompt,\n",
        "        config=GenerateContentConfig(tools=tools)\n",
        "    )\n",
        "\n",
        "    # Extract response text\n",
        "    response_text = \"\"\n",
        "    for part in response.candidates[0].content.parts:\n",
        "        response_text += part.text\n",
        "\n",
        "    # Get metadata about URL retrieval\n",
        "    url_metadata = response.candidates[0].url_context_metadata\n",
        "\n",
        "    return {\n",
        "        \"response\": response_text,\n",
        "        \"url_metadata\": url_metadata,\n",
        "        \"usage_metadata\": response.usage_metadata\n",
        "    }"
      ],
      "metadata": {
        "id": "tmqcK0U-Qkdi"
      },
      "execution_count": null,
      "outputs": []
    },
    {
      "cell_type": "markdown",
      "source": [
        "This example is taken from [Google's URL Context documentation](https://ai.google.dev/gemini-api/docs/url-context#python)"
      ],
      "metadata": {
        "id": "iQP_WotwVKwf"
      }
    },
    {
      "cell_type": "code",
      "source": [
        "# Example 1: Recipe Comparison\n",
        "recipe_urls = [\n",
        "    \"https://jessicainthekitchen.com/teriyaki-tofu-recipe/\",\n",
        "    \"https://www.allrecipes.com/recipe/281059/crispy-teriyaki-tofu/\"\n",
        "]\n",
        "\n",
        "recipe_prompt = \"Compare the ingredients and cooking times from the recipes at these URLs. Highlight the key differences and similarities.\"\n",
        "\n",
        "recipe_result = analyze_urls_basic(recipe_urls, recipe_prompt)\n",
        "print(\"Recipe Comparison Results:\")\n",
        "print(\"=\" * 50)\n",
        "print(recipe_result[\"response\"])\n",
        "print(\"\\nURL Retrieval Status:\")\n",
        "for url_meta in recipe_result[\"url_metadata\"].url_metadata:\n",
        "    print(f\"URL: {url_meta.retrieved_url}\")\n",
        "    print(f\"Status: {url_meta.url_retrieval_status}\")\n",
        "    print()"
      ],
      "metadata": {
        "id": "IznmU_wXRRXn"
      },
      "execution_count": null,
      "outputs": []
    },
    {
      "cell_type": "markdown",
      "source": [
        "After running the cell you will have some results like:\n",
        "<details>\n",
        "\n",
        ">\n",
        "\n",
        "Recipe Comparison Results:\n",
        "==================================================\n",
        "Both teriyaki tofu recipes aim for crispy tofu and a flavorful teriyaki sauce, but they differ in ingredients and cooking times.\n",
        "\n",
        "### Key Similarities:\n",
        "\n",
        "*   **Tofu Type:** Both recipes recommend using extra-firm tofu and pressing it to remove excess water.\n",
        "*   **Crisping Agent:** Both use cornstarch to achieve a crispy texture for the tofu.\n",
        "*   **Core Teriyaki Flavors:** Both recipes include soy sauce (or liquid aminos), ginger, garlic, and a sweetener in their teriyaki sauce.\n",
        "*   **Garnish:** Both suggest using chopped scallions and sesame seeds as a garnish.\n",
        "*   **Serving Suggestion:** Both recommend serving over rice.\n",
        "\n",
        "### Key Differences:\n",
        "\n",
        "#### Ingredients:\n",
        "\n",
        "*   **Teriyaki Sauce Base:**\n",
        "    *   Jessica in the Kitchen's recipe creates the teriyaki sauce from scratch using soy sauce, raw unrefined brown sugar (or coconut sugar), cornstarch, ground ginger, garlic powder, sesame seeds, rice wine vinegar, and water (or pineapple juice).\n",
        "    *   Allrecipes' recipe uses pre-made vegetarian teriyaki sauce as its base, then enhances it with green onions, sherry, minced garlic, Sriracha sauce (optional), and ginger paste. This implies a simpler sauce preparation in the Allrecipes version.\n",
        "*   **Sweetener:** Jessica in the Kitchen specifies raw unrefined brown sugar or coconut sugar. Allrecipes relies on the sweetness from the pre-made teriyaki sauce.\n",
        "*   **Acidity:** Jessica in the Kitchen uses rice wine vinegar. Allrecipes uses sherry.\n",
        "*   **Spice:** Allrecipes includes optional Sriracha sauce for a kick. Jessica in the Kitchen uses crushed red peppers for the teriyaki tofu marinade.\n",
        "*   **Oil for Tofu:** Jessica in the Kitchen uses sesame oil (or regular oil) for cooking the tofu. Allrecipes specifies olive oil.\n",
        "*   **Marinade for Tofu (before cooking):** Jessica in the Kitchen marinates the pressed tofu with light soy sauce (or liquid aminos), garlic powder, sea salt, black pepper, and cornstarch before cooking. Allrecipes only coats the pressed tofu in cornstarch before cooking.\n",
        "\n",
        "#### Cooking Times:\n",
        "\n",
        "*   **Prep Time:**\n",
        "    *   Jessica in the Kitchen: 35 minutes (includes tofu pressing time).\n",
        "    *   Allrecipes: 10 minutes.\n",
        "*   **Cook Time:**\n",
        "    *   Jessica in the Kitchen: 15 minutes (8 minutes to crisp tofu, 4 minutes to thicken sauce, 2-3 minutes for tofu to sit in sauce).\n",
        "    *   Allrecipes: 15 minutes (5 minutes per side for tofu, 2 minutes to thicken sauce).\n",
        "*   **Total Time:**\n",
        "    *   Jessica in the Kitchen: 50 minutes.\n",
        "    *   Allrecipes: 25 minutes.\n",
        "\n",
        "In summary, the Allrecipes version is a quicker recipe with a shorter prep time, largely due to using a pre-made teriyaki sauce and a simpler tofu preparation before cooking. The Jessica in the Kitchen recipe involves making the teriyaki sauce from scratch and a more extensive tofu marinade, contributing to a longer prep and total time, but potentially offering more control over the flavor profile.\n",
        "\n",
        "URL Retrieval Status:\n",
        "URL: https://jessicainthekitchen.com/teriyaki-tofu-recipe/\n",
        "Status: UrlRetrievalStatus.URL_RETRIEVAL_STATUS_SUCCESS\n",
        "\n",
        "URL: https://www.allrecipes.com/recipe/281059/crispy-teriyaki-tofu/\n",
        "Status: UrlRetrievalStatus.URL_RETRIEVAL_STATUS_SUCCESS\n",
        "<details>\n",
        "\n",
        "\n"
      ],
      "metadata": {
        "id": "mTj91ySzWGZL"
      }
    },
    {
      "cell_type": "markdown",
      "source": [],
      "metadata": {
        "id": "-niKa2YSYS4p"
      }
    },
    {
      "cell_type": "markdown",
      "source": [
        "That useful! We might add a statement to save those results to a Google Drive \"Recipes` folder and apply tags to the recipes, too.\n",
        "What other use cases could we use this for?\n",
        "* Content Analysis & Research\n",
        "* Business Intelligence\n",
        "* Content Creation & Synthesis\n",
        "* Technical Documentation\n",
        "* E-commerce & Product Research\n",
        "* Legal & Compliance\n",
        "* Education & Training\n",
        "* Real Estate & Travel\n",
        "\n"
      ],
      "metadata": {
        "id": "lL4YySWLYp-a"
      }
    },
    {
      "cell_type": "code",
      "source": [],
      "metadata": {
        "id": "D7psvs4BU-1k"
      },
      "execution_count": null,
      "outputs": []
    }
  ]
}