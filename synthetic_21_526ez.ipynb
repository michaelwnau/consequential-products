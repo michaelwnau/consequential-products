{
  "nbformat": 4,
  "nbformat_minor": 0,
  "metadata": {
    "colab": {
      "private_outputs": true,
      "provenance": [],
      "authorship_tag": "ABX9TyO6IzEQMfO01aoM+rC3CPKF",
      "include_colab_link": true
    },
    "kernelspec": {
      "name": "python3",
      "display_name": "Python 3"
    },
    "language_info": {
      "name": "python"
    }
  },
  "cells": [
    {
      "cell_type": "markdown",
      "metadata": {
        "id": "view-in-github",
        "colab_type": "text"
      },
      "source": [
        "<a href=\"https://colab.research.google.com/github/michaelwnau/consequential-products/blob/main/synthetic_21_526ez.ipynb\" target=\"_parent\"><img src=\"https://colab.research.google.com/assets/colab-badge.svg\" alt=\"Open In Colab\"/></a>"
      ]
    },
    {
      "cell_type": "code",
      "source": [
        "!pip install faker"
      ],
      "metadata": {
        "id": "yAhme-lhuB1u"
      },
      "execution_count": null,
      "outputs": []
    },
    {
      "cell_type": "code",
      "source": [
        "import json\n",
        "import random\n",
        "from faker import Faker\n",
        "from datetime import datetime, timedelta\n",
        "from google.colab import drive\n",
        "import os"
      ],
      "metadata": {
        "id": "DFue-0TLtIQ1"
      },
      "execution_count": null,
      "outputs": []
    },
    {
      "cell_type": "code",
      "source": [
        "# Initialize Faker for generating synthetic data\n",
        "faker = Faker()"
      ],
      "metadata": {
        "id": "I-U5Z6WgtW6U"
      },
      "execution_count": null,
      "outputs": []
    },
    {
      "cell_type": "code",
      "source": [
        "# Define historical service periods for clustering\n",
        "HISTORICAL_PERIODS = [\n",
        "    (\"1968-01-01\", \"1975-04-30\"),  # Vietnam War\n",
        "    (\"1990-08-02\", \"1991-07-31\"),  # Gulf War\n",
        "    (\"2002-11-15\", \"2021-01-01\")   # Post-9/11 conflicts\n",
        "]"
      ],
      "metadata": {
        "id": "GtOInT7JtbYe"
      },
      "execution_count": null,
      "outputs": []
    },
    {
      "cell_type": "code",
      "source": [
        "# Function to generate a date within a given period\n",
        "def generate_date(start_date, end_date, min_days=180, max_years=20):\n",
        "    \"\"\"Generate a random date between start_date and end_date, ensuring at least `min_days` apart.\"\"\"\n",
        "\n",
        "    start = datetime.strptime(start_date, \"%Y-%m-%d\")\n",
        "    end = datetime.strptime(end_date, \"%Y-%m-%d\")\n",
        "\n",
        "    # Ensure start date is not later than end date\n",
        "    if start > end:\n",
        "        start, end = end, start  # Swap values if needed\n",
        "\n",
        "    # Generate a start date within the allowed range, considering min_days\n",
        "    max_start_date = end - timedelta(days=min_days)\n",
        "    service_start = faker.date_between(start_date=start, end_date=max_start_date)\n",
        "\n",
        "    # Ensure end date is at least `min_days` later and within allowed range\n",
        "    earliest_end_date = service_start + timedelta(days=min_days)\n",
        "    end_date_adjusted = min(end.date(), service_start + timedelta(days=(max_years * 365)))\n",
        "\n",
        "    service_end = faker.date_between(start_date=earliest_end_date, end_date=end_date_adjusted)\n",
        "\n",
        "    return service_start.strftime(\"%Y-%m-%d\"), service_end.strftime(\"%Y-%m-%d\")"
      ],
      "metadata": {
        "id": "Q-9E7WEMtf8s"
      },
      "execution_count": null,
      "outputs": []
    },
    {
      "cell_type": "code",
      "source": [
        "# Function to randomly select a military service period\n",
        "def select_service_period():\n",
        "    \"\"\"Select a valid historical service period and ensure the start date is at least 180 days before the end date.\"\"\"\n",
        "    start_date, end_date = random.choice(HISTORICAL_PERIODS)  # Pick a historical service period\n",
        "    service_start, service_end = generate_date(start_date, end_date)  # Generate valid dates\n",
        "\n",
        "    return service_start, service_end\n"
      ],
      "metadata": {
        "id": "_A4Z_SEwtkPm"
      },
      "execution_count": null,
      "outputs": []
    },
    {
      "cell_type": "code",
      "source": [
        "# Function to generate a synthetic VA claim\n",
        "def generate_synthetic_claim():\n",
        "    \"\"\"Generate a single synthetic VA Form 21-526EZ claim submission.\"\"\"\n",
        "\n",
        "    # Select a military service period\n",
        "    service_start, service_end = select_service_period()\n",
        "\n",
        "    # Generate synthetic claim details\n",
        "    claim = {\n",
        "        \"veteran_info\": {\n",
        "            \"name\": faker.name(),\n",
        "            \"ssn\": faker.ssn(),\n",
        "            \"dob\": generate_date(\"1968-01-01\", \"2003-12-31\"),  # Ensuring no dates before 1968\n",
        "            \"phone\": faker.phone_number(),\n",
        "            \"email\": faker.email(),\n",
        "            \"address\": faker.address()\n",
        "        },\n",
        "        \"claim_type\": random.choice([\"FDC\", \"Standard\"]),\n",
        "        \"homeless_status\": random.choice([\"Yes\", \"No\"]),\n",
        "        \"exposure_info\": {\n",
        "            \"toxic_exposures\": random.sample([\"Agent Orange\", \"Radiation\", \"Burn Pits\", \"Asbestos\"], k=random.randint(0, 2)),\n",
        "            \"dates\": generate_date(service_start, service_end)\n",
        "        },\n",
        "        \"disabilities\": [\n",
        "            {\n",
        "                \"condition\": random.choice([\"Hearing Loss\", \"Diabetes\", \"PTSD\", \"Knee Injury\"]),\n",
        "                \"service_connection\": random.choice([\"Direct\", \"Presumptive\", \"Secondary\"]),\n",
        "                \"date_of_onset\": generate_date(service_start, service_end)\n",
        "            } for _ in range(3)  # Exactly three rows in Section V\n",
        "        ],\n",
        "        \"additional_claims\": [\n",
        "            {\n",
        "                \"condition\": random.choice([\"Lung Disease\", \"Back Injury\", \"TBI\"]),\n",
        "                \"date_of_onset\": generate_date(service_start, service_end)\n",
        "            } for _ in range(3)  # Exactly three rows in Section XIII\n",
        "        ],\n",
        "        \"service_info\": {\n",
        "            \"branch\": random.choice([\"Army\", \"Navy\", \"Air Force\", \"Marines\", \"Coast Guard\"]),\n",
        "            \"service_dates\": {\n",
        "                \"start\": service_start,\n",
        "                \"end\": service_end\n",
        "            },\n",
        "            \"combat_zone\": random.choice([\"Yes\", \"No\"])\n",
        "        },\n",
        "        \"financial_info\": {\n",
        "            \"receives_military_retirement\": random.choice([\"Yes\", \"No\"]),\n",
        "            \"direct_deposit\": {\n",
        "                \"bank\": faker.company(),\n",
        "                \"account_type\": random.choice([\"Checking\", \"Savings\"]),\n",
        "                \"account_number\": faker.bban()\n",
        "            }\n",
        "        },\n",
        "        \"certification\": {\n",
        "            \"signed\": True,\n",
        "            \"date_signed\": faker.date_this_year().strftime(\"%Y-%m-%d\")\n",
        "        }\n",
        "    }\n",
        "    return claim"
      ],
      "metadata": {
        "id": "O2ODa9rztpxg"
      },
      "execution_count": null,
      "outputs": []
    },
    {
      "cell_type": "code",
      "execution_count": null,
      "metadata": {
        "id": "f1ZDhJxptEHM"
      },
      "outputs": [],
      "source": [
        "# Function to save the JSON file in Google Drive\n",
        "def save_to_google_drive(data, filename=\"synthetic_claim.json\"):\n",
        "    \"\"\"Save JSON data to a Google Drive folder named 'synthetic-data-21-526ez'.\"\"\"\n",
        "\n",
        "    # Mount Google Drive\n",
        "    drive.mount('/content/drive')\n",
        "\n",
        "    # Define the folder path in Google Drive\n",
        "    folder_path = \"/content/drive/My Drive/synthetic-data-21-526ez/\"\n",
        "\n",
        "    # Ensure the directory exists\n",
        "    if not os.path.exists(folder_path):\n",
        "        os.makedirs(folder_path)\n",
        "\n",
        "    # Save the JSON file\n",
        "    file_path = os.path.join(folder_path, filename)\n",
        "    with open(file_path, \"w\") as f:\n",
        "        json.dump(data, f, indent=4)\n",
        "\n",
        "    print(f\"File saved to Google Drive: {file_path}\")\n",
        "\n",
        "# Generate a single synthetic claim\n",
        "synthetic_data = generate_synthetic_claim()\n",
        "save_to_google_drive(synthetic_data)\n",
        "\n",
        "# Uncomment the following lines to generate multiple claims (up to 999)\n",
        "# synthetic_claims = [generate_synthetic_claim() for _ in range(999)]\n",
        "# save_to_google_drive(synthetic_claims, filename=\"multiple_synthetic_claims.json\")\n"
      ]
    },
    {
      "cell_type": "code",
      "source": [
        "# Generate a single synthetic claim\n",
        "synthetic_data = generate_synthetic_claim()\n",
        "save_to_google_drive(synthetic_data)\n",
        "\n",
        "# Uncomment the following lines to generate multiple claims (up to 999)\n",
        "# synthetic_claims = [generate_synthetic_claim() for _ in range(999)]\n",
        "# save_to_google_drive(synthetic_claims, filename=\"multiple_synthetic_claims.json\")"
      ],
      "metadata": {
        "id": "0uhd14EUt3yK"
      },
      "execution_count": null,
      "outputs": []
    }
  ]
}