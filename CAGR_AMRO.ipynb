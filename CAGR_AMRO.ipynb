{
  "nbformat": 4,
  "nbformat_minor": 0,
  "metadata": {
    "colab": {
      "private_outputs": true,
      "provenance": [],
      "authorship_tag": "ABX9TyMX98TuB4S4iIhv5lbPKzvi",
      "include_colab_link": true
    },
    "kernelspec": {
      "name": "python3",
      "display_name": "Python 3"
    },
    "language_info": {
      "name": "python"
    }
  },
  "cells": [
    {
      "cell_type": "markdown",
      "metadata": {
        "id": "view-in-github",
        "colab_type": "text"
      },
      "source": [
        "<a href=\"https://colab.research.google.com/github/michaelwnau/consequential-products/blob/main/CAGR_AMRO.ipynb\" target=\"_parent\"><img src=\"https://colab.research.google.com/assets/colab-badge.svg\" alt=\"Open In Colab\"/></a>"
      ]
    },
    {
      "cell_type": "markdown",
      "source": [
        "# **Projections for the growth of the military aviation MRO market**\n",
        "\n",
        "Market research conducted for AFWERX 24.7 Open Topic SBIR. The graph below represents CAGR for 2024-2030 for commercial and US Military and NATO aviation Maintenance, Repair, and Overhaul markets."
      ],
      "metadata": {
        "id": "3vvFIEgLq5wt"
      }
    },
    {
      "cell_type": "code",
      "execution_count": null,
      "metadata": {
        "id": "2EATVoejjp0p"
      },
      "outputs": [],
      "source": [
        "# Initial values based on projected data and assumptions\n",
        "initial_global_value = 54.79  # Global Military Aviation MRO value in 2030\n",
        "initial_north_america_value = 55.0  # North America Aircraft MRO estimated\n",
        "initial_us_military_value = 50.0  # US Military MRO estimated\n",
        "\n",
        "# CAGR values for the three sectors\n",
        "cagr_global = 2.87 / 100\n",
        "cagr_north_america = 5.1 / 100\n",
        "cagr_us_military = 4.0 / 100\n",
        "\n",
        "!pip install numpy\n",
        "import numpy as np #Added this line to import the numpy module\n",
        "\n",
        "#Import the matplotlib library and give it the alias 'plt'\n",
        "import matplotlib.pyplot as plt\n",
        "\n",
        "# Years from 2024 to 2030\n",
        "years = np.arange(2024, 2031)\n",
        "\n",
        "# Function to calculate the compounded value for each year\n",
        "def calculate_cagr(initial_value, cagr, years):\n",
        "    return [initial_value * ((1 + cagr) ** (year - 2024)) for year in years]\n",
        "\n",
        "# Calculate the values for each sector over the years\n",
        "global_values = calculate_cagr(initial_global_value, cagr_global, years)\n",
        "north_america_values = calculate_cagr(initial_north_america_value, cagr_north_america, years)\n",
        "us_military_values = calculate_cagr(initial_us_military_value, cagr_us_military, years)\n",
        "\n",
        "# Bar width\n",
        "bar_width = 0.25\n",
        "\n",
        "# X positions for each bar for the three sectors\n",
        "r1 = np.arange(len(years))\n",
        "r2 = [x + bar_width for x in r1]\n",
        "r3 = [x + bar_width for x in r2]\n",
        "\n",
        "# Create the bar chart for CAGR in USD projections from 2024 to 2030\n",
        "plt.figure(figsize=(12, 7))\n",
        "\n",
        "# Plotting each sector\n",
        "plt.bar(r1, global_values, color='goldenrod', width=bar_width, edgecolor='grey', label='Global Military Aviation MRO')\n",
        "plt.bar(r2, north_america_values, color='blue', width=bar_width, edgecolor='grey', label='North America Aircraft MRO')\n",
        "plt.bar(r3, us_military_values, color='green', width=bar_width, edgecolor='grey', label='US Military MRO Estimated')\n",
        "\n",
        "# Adding titles and labels\n",
        "plt.title('Projected MRO Market Growth from 2024 to 2030 (USD)', fontsize=16)\n",
        "plt.ylabel('Market Value (USD Billion)', fontsize=12)\n",
        "plt.xlabel('Year', fontsize=12)\n",
        "plt.xticks([r + bar_width for r in range(len(years))], years)\n",
        "\n",
        "# Adding legend\n",
        "plt.legend()\n",
        "\n",
        "# Show the chart\n",
        "plt.tight_layout()\n",
        "plt.show()"
      ]
    },
    {
      "cell_type": "markdown",
      "source": [
        "# Projections for the growth of the military aviation MRO market\n",
        "\n",
        "1. According to one source, NATO Military Aviation MRO market is projected to grow at a CAGR of 2.87% from 2024 to 2030[1].\n",
        "\n",
        "2. Another source states that the NATO Military Aviation MRO market grew at a CAGR of 4.50% during 2020-2023, and is expected to reach $54.79 billion by 2030[2].\n",
        "\n",
        "3. For the North America region specifically, the Aircraft MRO market (which includes both commercial and military) is projected to grow at a CAGR of 5.1% from 2022 to 2030[3].\n",
        "\n",
        "While these figures provide some context, none of them give a specific CAGR projection for just the US military MRO market through 2030. The growth rates vary between around 2.87% to 5.1% depending on the specific market segment and geographic region being analyzed.\n",
        "\n",
        "Based on the available information, we can estimate that the US military MRO market is likely to see steady growth in the 3-5% CAGR range through 2030, given the overall growth trends in the broader military and North American MRO markets. This growth is being driven by factors like aging military aircraft fleets, ongoing operational requirements, and technological advancements requiring upgrades and maintenance[1][2].\n",
        "\n",
        "##Citations\n",
        "[1] https://www.verifiedmarketresearch.com/product/military-aviation-mro-market/\n",
        "\n",
        "[2] https://www.businesswire.com/news/home/20240520587465/en/Global-Military-Aviation-MRO-Industry-Report-2024-Competitive-Developments-Strategies-Mergers-and-Acquisitions-New-Product-Developments---Analysis-Forecasts-2020-2030---ResearchAndMarkets.com\n",
        "\n",
        "[3] https://www.businessmarketinsights.com/reports/north-america-aircraft-mro-market\n",
        "\n",
        "[4] https://www.fortunebusinessinsights.com/aircraft-engine-mro-market-108858\n",
        "\n",
        "[5] [6] https://grandviewresearch.com/horizon/outlook/aircraft-mro-market/united-states/overview\n",
        "\n",
        "[7] https://www.marketwatch.com/press-release/global-military-aviation-mro-industry-report-2024-competitive-developments-strategies-mergers-and-acquisitions-new-product-developments-analysis-forecasts-2020-2030-researchandmarkets-com-71011056\n",
        "\n",
        "[8] https://www.whatech.com/og/markets-research/military/archive/826484-military-aviation-mro-market-to-witness-tremendous-growth-by-2030-cagr-of-2-845\n"
      ],
      "metadata": {
        "id": "k98DyAK6qkn8"
      }
    }
  ]
}