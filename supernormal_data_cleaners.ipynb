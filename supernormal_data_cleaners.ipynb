{
  "nbformat": 4,
  "nbformat_minor": 0,
  "metadata": {
    "colab": {
      "private_outputs": true,
      "provenance": [],
      "mount_file_id": "1uq8taUyfO9S9PNEyh1gmUpgLwddy2g4j",
      "authorship_tag": "ABX9TyPAxr6FPIQJ8DZgU242TAkP",
      "include_colab_link": true
    },
    "kernelspec": {
      "name": "python3",
      "display_name": "Python 3"
    },
    "language_info": {
      "name": "python"
    }
  },
  "cells": [
    {
      "cell_type": "markdown",
      "metadata": {
        "id": "view-in-github",
        "colab_type": "text"
      },
      "source": [
        "<a href=\"https://colab.research.google.com/github/michaelwnau/consequential-products/blob/main/supernormal_data_cleaners.ipynb\" target=\"_parent\"><img src=\"https://colab.research.google.com/assets/colab-badge.svg\" alt=\"Open In Colab\"/></a>"
      ]
    },
    {
      "cell_type": "code",
      "execution_count": null,
      "metadata": {
        "id": "sFgSyW74qi7v"
      },
      "outputs": [],
      "source": [
        "import re\n",
        "import os\n",
        "from datetime import datetime\n",
        "\n",
        "# Install necessary libraries if not already installed\n",
        "try:\n",
        "    import markdown\n",
        "except ImportError:\n",
        "    !pip install markdown\n",
        "    import markdown"
      ]
    },
    {
      "cell_type": "code",
      "source": [
        "# Specify file paths\n",
        "file_paths = ['/content/drive/MyDrive/Supernormal-Transcripts/G1-Portal-Transition-1f82401e0cd64c51bd500aa790db728c.md']\n",
        "\n",
        "# Read content of each file\n",
        "file_contents = []\n",
        "for path in file_paths:\n",
        "    with open(path, 'r', encoding='utf-8') as f:\n",
        "        file_contents.append(f.read())\n"
      ],
      "metadata": {
        "id": "_6cWyNBptGer"
      },
      "execution_count": null,
      "outputs": []
    },
    {
      "cell_type": "code",
      "source": [
        "# Function to clean special characters and lowercase text\n",
        "def clean_text(text):\n",
        "    # Remove special characters (except spaces and alphanumeric)\n",
        "    cleaned_text = re.sub(r'[^A-Za-z0-9\\s]', '', text)\n",
        "    # Convert to lowercase\n",
        "    cleaned_text = cleaned_text.lower()\n",
        "    return cleaned_text\n",
        "\n",
        "# Function to standardize date and timestamp formats\n",
        "def standardize_dates(text):\n",
        "    # Example pattern for dates (e.g., 2023-12-31) and times (e.g., 14:30)\n",
        "    date_pattern = r'\\b(\\d{4}-\\d{2}-\\d{2})\\b'\n",
        "    time_pattern = r'\\b(\\d{2}:\\d{2})\\b'\n",
        "\n",
        "    # Standardize date format to YYYY-MM-DD\n",
        "    standardized_text = re.sub(date_pattern, lambda x: datetime.strptime(x.group(), '%Y-%m-%d').strftime('%Y-%m-%d'), text)\n",
        "    # Standardize time format to HH:MM\n",
        "    standardized_text = re.sub(time_pattern, lambda x: datetime.strptime(x.group(), '%H:%M').strftime('%H:%M'), standardized_text)\n",
        "\n",
        "    return standardized_text\n"
      ],
      "metadata": {
        "id": "KIkqBJvDuagn"
      },
      "execution_count": null,
      "outputs": []
    },
    {
      "cell_type": "code",
      "source": [
        "processed_files = []\n",
        "for content, path in zip(file_contents, file_paths):\n",
        "    # Step 1: Clean text\n",
        "    content = clean_text(content)\n",
        "    # Step 2: Standardize dates and times\n",
        "    content = standardize_dates(content)\n",
        "    processed_files.append((content, path))\n"
      ],
      "metadata": {
        "id": "Oq4naPQsueRX"
      },
      "execution_count": null,
      "outputs": []
    },
    {
      "cell_type": "code",
      "source": [
        "# Convert filename to kebab-case\n",
        "def convert_to_kebab_case(filename):\n",
        "    # Remove the extension and make lowercase\n",
        "    kebab_name = filename.lower().replace(' ', '-').replace('_', '-').replace('.md', '.txt')\n",
        "    return kebab_name\n",
        "\n",
        "# Save each processed file\n",
        "for content, path in processed_files:\n",
        "    # Get the kebab-case filename\n",
        "    original_filename = os.path.basename(path)\n",
        "    new_filename = convert_to_kebab_case(original_filename)\n",
        "\n",
        "    # Create the output directory if it doesn't exist\n",
        "    output_dir = '/content/drive/MyDrive/Supernormal-Transcripts/processed-files'  # Or any other desired directory\n",
        "    if not os.path.exists(output_dir):\n",
        "        os.makedirs(output_dir)\n",
        "\n",
        "    output_path = f'{output_dir}/{new_filename}'\n",
        "\n",
        "    # Write the processed content to a new .txt file\n",
        "    with open(output_path, 'w', encoding='utf-8') as f:\n",
        "        f.write(content)\n",
        "\n",
        "    print(f'Saved cleaned file as {output_path}')\n"
      ],
      "metadata": {
        "id": "ZhFAEmuquhcS"
      },
      "execution_count": null,
      "outputs": []
    }
  ]
}